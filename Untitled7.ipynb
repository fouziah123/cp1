{
 "cells": [
  {
   "cell_type": "code",
   "execution_count": 3,
   "id": "f1c9e0c9",
   "metadata": {
    "scrolled": true
   },
   "outputs": [
    {
     "ename": "NameError",
     "evalue": "name 'hicham' is not defined",
     "output_type": "error",
     "traceback": [
      "\u001b[1;31m---------------------------------------------------------------------------\u001b[0m",
      "\u001b[1;31mNameError\u001b[0m                                 Traceback (most recent call last)",
      "Cell \u001b[1;32mIn[3], line 1\u001b[0m\n\u001b[1;32m----> 1\u001b[0m name\u001b[38;5;241m=\u001b[39mhicham\n\u001b[0;32m      2\u001b[0m \u001b[38;5;28mprint\u001b[39m(\u001b[38;5;124m\"\u001b[39m\u001b[38;5;124mbonjour\u001b[39m\u001b[38;5;124m\"\u001b[39m,name,\u001b[38;5;124m\"\u001b[39m\u001b[38;5;124m,je m\u001b[39m\u001b[38;5;124m'\u001b[39m\u001b[38;5;124mappelle zouheir\u001b[39m\u001b[38;5;124m\"\u001b[39m)\n",
      "\u001b[1;31mNameError\u001b[0m: name 'hicham' is not defined"
     ]
    }
   ],
   "source": [
    "name=\"hicham\"\n",
    "print(\"bonjour\",name,\",je m'appelle zouheir\")\n"
   ]
  },
  {
   "cell_type": "code",
   "execution_count": 6,
   "id": "3eb86c88",
   "metadata": {},
   "outputs": [
    {
     "name": "stdout",
     "output_type": "stream",
     "text": [
      "bonjourfatima,je m'appelle fouzia\n"
     ]
    }
   ],
   "source": [
    "names=[\"fouzia\",\"hicham\",\"abdelmjid\",\"fatima\"]\n",
    "for x in names:\n",
    "    continue\n",
    "print(f\"bonjour{x},je m'appelle fouzia\")\n",
    "      "
   ]
  },
  {
   "cell_type": "code",
   "execution_count": 14,
   "id": "dd6c6c54",
   "metadata": {},
   "outputs": [
    {
     "name": "stdout",
     "output_type": "stream",
     "text": [
      "1 n'est pas divisible\n",
      "2 n'est pas divisible\n",
      "3 divisible par 3\n",
      "4 n'est pas divisible\n",
      "5 n'est pas divisible\n",
      "6 divisible par 3\n",
      "7 n'est pas divisible\n",
      "8 n'est pas divisible\n",
      "9 divisible par 3\n",
      "10 n'est pas divisible\n",
      "11 n'est pas divisible\n",
      "12 divisible par 3\n",
      "13 n'est pas divisible\n",
      "14 n'est pas divisible\n",
      "15 divisible par 3\n",
      "16 n'est pas divisible\n",
      "17 n'est pas divisible\n",
      "18 divisible par 3\n",
      "19 n'est pas divisible\n",
      "20 n'est pas divisible\n"
     ]
    }
   ],
   "source": [
    "nombre=range(1,21)\n",
    "for x in nombre:\n",
    "    resultat=x%3\n",
    "    if resultat==0:\n",
    "        print(x,\"divisible par 3\")\n",
    "    else:\n",
    "        print(x,\"n'est pas divisible\")\n",
    "        "
   ]
  },
  {
   "cell_type": "code",
   "execution_count": null,
   "id": "1092e01f",
   "metadata": {},
   "outputs": [],
   "source": []
  },
  {
   "cell_type": "code",
   "execution_count": null,
   "id": "8b29bb85",
   "metadata": {},
   "outputs": [],
   "source": []
  }
 ],
 "metadata": {
  "kernelspec": {
   "display_name": "Python 3 (ipykernel)",
   "language": "python",
   "name": "python3"
  },
  "language_info": {
   "codemirror_mode": {
    "name": "ipython",
    "version": 3
   },
   "file_extension": ".py",
   "mimetype": "text/x-python",
   "name": "python",
   "nbconvert_exporter": "python",
   "pygments_lexer": "ipython3",
   "version": "3.11.5"
  }
 },
 "nbformat": 4,
 "nbformat_minor": 5
}
